{
 "cells": [
  {
   "cell_type": "code",
   "execution_count": 4,
   "metadata": {},
   "outputs": [
    {
     "name": "stdout",
     "output_type": "stream",
     "text": [
      "3.5.4\n"
     ]
    }
   ],
   "source": [
    "import findspark\n",
    "findspark.init()\n",
    "from pyspark.sql import SparkSession\n",
    "\n",
    "spark = SparkSession.builder \\\n",
    "        .master('local[*]') \\\n",
    "        .appName('Basics') \\\n",
    "        .getOrCreate()\n",
    "\n",
    "print(spark.version)"
   ]
  },
  {
   "cell_type": "code",
   "execution_count": 5,
   "metadata": {},
   "outputs": [
    {
     "name": "stdout",
     "output_type": "stream",
     "text": [
      "+----------------+-----------+--------------------+------+-------+--------+------+-----+---------+-----------+------+-------------+\n",
      "|transaction_date|member_type|           member_id|gender|product|quantity|amount|  age|card_type|branch_name|region|category_name|\n",
      "+----------------+-----------+--------------------+------+-------+--------+------+-----+---------+-----------+------+-------------+\n",
      "|      2018-01-17|     member|ffc9e419-cfda-11e...|FEMALE|    420|       2|  5300|50-55|  REGULAR|    D_Store|     2|          PET|\n",
      "|      2018-04-10|     member|ff39d825-cfda-11e...|  MALE|     69|       4|  7100|40-45|  REGULAR|    D_Store|     2|     CLEANERS|\n",
      "|      2018-02-19|     member|ff90d1f8-cfda-11e...|FEMALE|   1015|      18|  8100|40-45|  REGULAR|    J_Store|     1|          PET|\n",
      "|      2018-01-27|     member|ffd5caf9-cfda-11e...|  MALE|     69|      11|  7100|18-25|  REGULAR|    H_Store|     4|     CLEANERS|\n",
      "|      2018-05-07|     member|ff92f50e-cfda-11e...|FEMALE|   3456|      13|  5200|55-60|  REGULAR|    B_Store|     1|         FOOD|\n",
      "+----------------+-----------+--------------------+------+-------+--------+------+-----+---------+-----------+------+-------------+\n",
      "only showing top 5 rows\n",
      "\n"
     ]
    }
   ],
   "source": [
    "df_2018 = spark.read.csv(f\"C:/Users/gyalm/churn_prediction/churn_prediction/data/week2_for_teacher_demo.csv.gz\", inferSchema=True, header=True)\n",
    "df_2018.show(5)"
   ]
  },
  {
   "cell_type": "code",
   "execution_count": 13,
   "metadata": {},
   "outputs": [],
   "source": [
    "df_2018.createOrReplaceTempView(\"df_2018_view\")"
   ]
  },
  {
   "cell_type": "code",
   "execution_count": 14,
   "metadata": {},
   "outputs": [
    {
     "name": "stdout",
     "output_type": "stream",
     "text": [
      "+----------------+-----------+--------------------+------+-------+--------+------+-----+---------+-----------+------+-------------+\n",
      "|transaction_date|member_type|           member_id|gender|product|quantity|amount|  age|card_type|branch_name|region|category_name|\n",
      "+----------------+-----------+--------------------+------+-------+--------+------+-----+---------+-----------+------+-------------+\n",
      "|      2018-01-17|     member|ffc9e419-cfda-11e...|FEMALE|    420|       2|  5300|50-55|  REGULAR|    D_Store|     2|          PET|\n",
      "|      2018-04-10|     member|ff39d825-cfda-11e...|  MALE|     69|       4|  7100|40-45|  REGULAR|    D_Store|     2|     CLEANERS|\n",
      "|      2018-02-19|     member|ff90d1f8-cfda-11e...|FEMALE|   1015|      18|  8100|40-45|  REGULAR|    J_Store|     1|          PET|\n",
      "|      2018-01-27|     member|ffd5caf9-cfda-11e...|  MALE|     69|      11|  7100|18-25|  REGULAR|    H_Store|     4|     CLEANERS|\n",
      "|      2018-05-07|     member|ff92f50e-cfda-11e...|FEMALE|   3456|      13|  5200|55-60|  REGULAR|    B_Store|     1|         FOOD|\n",
      "+----------------+-----------+--------------------+------+-------+--------+------+-----+---------+-----------+------+-------------+\n",
      "\n"
     ]
    }
   ],
   "source": [
    "spark.sql('''SELECT * FROM df_2018_view LIMIT 5''').show()"
   ]
  },
  {
   "cell_type": "code",
   "execution_count": 15,
   "metadata": {},
   "outputs": [
    {
     "name": "stdout",
     "output_type": "stream",
     "text": [
      "+--------+\n",
      "|MemberId|\n",
      "+--------+\n",
      "|  302262|\n",
      "+--------+\n",
      "\n"
     ]
    }
   ],
   "source": [
    "spark.sql('''SELECT COUNT(DISTINCT member_id) AS MemberId FROM df_2018_view''').show()"
   ]
  },
  {
   "cell_type": "code",
   "execution_count": 41,
   "metadata": {},
   "outputs": [
    {
     "name": "stdout",
     "output_type": "stream",
     "text": [
      "+--------+\n",
      "|MemberId|\n",
      "+--------+\n",
      "|   67717|\n",
      "+--------+\n",
      "\n"
     ]
    }
   ],
   "source": [
    "spark.sql('''SELECT COUNT(DISTINCT member_id) AS MemberId FROM df_2018_view WHERE transaction_date LIKE \"%2018-04%\"''').show()"
   ]
  },
  {
   "cell_type": "code",
   "execution_count": 18,
   "metadata": {},
   "outputs": [
    {
     "name": "stdout",
     "output_type": "stream",
     "text": [
      "+--------------------+-------------+-------------+-------------+-------------+-------------+-------------+------------+\n",
      "|           member_id|pm1_total_txn|pm2_total_txn|pm3_total_txn|pm4_total_txn|pm5_total_txn|pm6_total_txn|churn_status|\n",
      "+--------------------+-------------+-------------+-------------+-------------+-------------+-------------+------------+\n",
      "|ffd9e9d8-cfda-11e...|            0|            0|           19|            5|            2|            0|      Active|\n",
      "|006274b5-cfdb-11e...|            0|            0|            0|            0|           15|            0|      Active|\n",
      "|ffd1853a-cfda-11e...|            0|            0|           14|            0|            0|            0|      Active|\n",
      "|ff4e988d-cfda-11e...|            0|            0|           17|            7|           11|           42|      Active|\n",
      "|ffe9e850-cfda-11e...|            0|            7|            0|            0|            0|            0|      Active|\n",
      "|ffbb8c2c-cfda-11e...|            0|            0|           11|           13|            0|            0|      Active|\n",
      "|00f00e62-cfdb-11e...|            0|           13|            6|            0|            0|            0|      Active|\n",
      "|00236f6a-cfdb-11e...|            7|            0|           27|            0|            0|            0|      Active|\n",
      "|ff4bd849-cfda-11e...|            0|            0|            0|           44|            0|           16|      Active|\n",
      "|ffa8a041-cfda-11e...|            0|           26|            0|            0|            0|            0|      Active|\n",
      "|ff72e84a-cfda-11e...|            0|           13|           17|            0|            0|            0|      Active|\n",
      "|006c5ff1-cfdb-11e...|            0|            3|            0|            0|           22|            0|      Active|\n",
      "|ff82a21c-cfda-11e...|            0|            0|            0|            5|           29|            0|      Active|\n",
      "|002c21ec-cfdb-11e...|            0|            0|            0|            0|           44|           14|      Active|\n",
      "|010480e6-cfdb-11e...|           31|            0|            0|            0|           42|            2|      Active|\n",
      "|0100fe2f-cfdb-11e...|            0|            0|            0|            0|            7|            0|      Active|\n",
      "|ff088941-cfda-11e...|            0|            0|           33|            0|           27|            0|      Active|\n",
      "|00f53e7c-cfdb-11e...|            0|           70|            0|            0|            0|            1|      Active|\n",
      "|01224787-cfdb-11e...|            0|            0|            0|            0|           17|            0|      Active|\n",
      "|ffd22140-cfda-11e...|            0|            2|            0|           10|           12|            0|      Active|\n",
      "+--------------------+-------------+-------------+-------------+-------------+-------------+-------------+------------+\n",
      "\n"
     ]
    }
   ],
   "source": [
    "month_txn_window = [\n",
    "    ('2018-01-01', '2018-01-31', 'pm1_total_txn'),\n",
    "    ('2018-02-01', '2018-02-28', 'pm2_total_txn'),\n",
    "    ('2018-03-01', '2018-03-31', 'pm3_total_txn'),\n",
    "    ('2018-04-01', '2018-04-30', 'pm4_total_txn'),\n",
    "    ('2018-05-01', '2018-05-31', 'pm5_total_txn'),\n",
    "    ('2018-06-01', '2018-06-30', 'pm6_total_txn')]\n",
    "\n",
    "sum_txn_window = \",\\n        \".join([\n",
    "    f\"SUM(CASE WHEN transaction_date BETWEEN '{start_date}' AND '{end_date}' THEN quantity ELSE 0 END) AS {past_month}\"\n",
    "for start_date, end_date, past_month in month_txn_window\n",
    "])\n",
    "\n",
    "spark.sql(f'''\n",
    "WITH\n",
    "aggregated_customers AS (\n",
    "    SELECT DISTINCT member_id\n",
    "    FROM df_2018_view\n",
    "    WHERE transaction_date BETWEEN '{month_txn_window[::len(month_txn_window)][0][0]}' AND '{month_txn_window[::-1][0][1]}'\n",
    "),\n",
    "\n",
    "aggregated_customers_with_past_txns AS (\n",
    "    SELECT DISTINCT\n",
    "        a.member_id,\n",
    "        b.quantity,\n",
    "        b.transaction_date\n",
    "    FROM\n",
    "        aggregated_customers AS a\n",
    "    LEFT JOIN\n",
    "        df_2018_view AS b\n",
    "    ON\n",
    "        a.member_id = b.member_id\n",
    "    WHERE\n",
    "        b.transaction_date BETWEEN '{month_txn_window[::len(month_txn_window)][0][0]}' AND '{month_txn_window[::-1][0][1]}'\n",
    "),\n",
    "\n",
    "aggregated_total_txns_per_month AS (\n",
    "    SELECT DISTINCT\n",
    "        member_id,\n",
    "        {sum_txn_window}\n",
    "    FROM\n",
    "        aggregated_customers_with_past_txns\n",
    "    GROUP BY\n",
    "        member_id\n",
    ")\n",
    "\n",
    "SELECT DISTINCT\n",
    "    member_id,\n",
    "    {\", \".join(list(map(lambda x: x[2], month_txn_window)))},\n",
    "    CASE \n",
    "        WHEN { \" AND \".join(list(map(lambda x: f\"{x[2]} = 0\", month_txn_window))) } THEN 'Churned'\n",
    "        ELSE 'Active'\n",
    "    END AS churn_status\n",
    "FROM\n",
    "    aggregated_total_txns_per_month\n",
    "LIMIT \n",
    "20\n",
    "''').show()"
   ]
  },
  {
   "cell_type": "code",
   "execution_count": 45,
   "metadata": {},
   "outputs": [
    {
     "name": "stdout",
     "output_type": "stream",
     "text": [
      "+------+-------------+--------------+\n",
      "|target|cnt_member_id|cntd_member_id|\n",
      "+------+-------------+--------------+\n",
      "|     0|       289307|        289307|\n",
      "+------+-------------+--------------+\n",
      "\n"
     ]
    }
   ],
   "source": [
    "month_txn_window = [\n",
    "    ('2018-01-01', '2018-01-31', 'pm1_total_txn'),\n",
    "    ('2018-02-01', '2018-02-28', 'pm2_total_txn'),\n",
    "    ('2018-03-01', '2018-03-31', 'pm3_total_txn'),\n",
    "    ('2018-04-01', '2018-04-30', 'pm4_total_txn'),\n",
    "    ('2018-05-01', '2018-05-31', 'pm5_total_txn'),\n",
    "    ('2018-06-01', '2018-06-30', 'pm6_total_txn')]\n",
    "\n",
    "sum_txn_window = \",\\n        \".join([\n",
    "    f\"SUM(CASE WHEN transaction_date BETWEEN '{start_date}' AND '{end_date}' THEN quantity ELSE 0 END) AS {past_month}\"\n",
    "    for start_date, end_date, past_month in month_txn_window\n",
    "])\n",
    "\n",
    "spark.sql(f'''\n",
    "WITH\n",
    "aggregated_customers AS (\n",
    "    SELECT DISTINCT member_id\n",
    "    FROM df_2018_view\n",
    "    WHERE transaction_date BETWEEN '{month_txn_window[::len(month_txn_window)][0][0]}' AND '{month_txn_window[::-1][0][1]}'\n",
    "),\n",
    "\n",
    "aggregated_customers_with_past_txns AS (\n",
    "    SELECT DISTINCT\n",
    "        a.member_id,\n",
    "        COALESCE(b.quantity, 0) AS quantity,\n",
    "        b.transaction_date\n",
    "    FROM\n",
    "        aggregated_customers AS a\n",
    "    LEFT JOIN\n",
    "        df_2018_view AS b\n",
    "    ON\n",
    "        a.member_id = b.member_id\n",
    "    WHERE\n",
    "        b.transaction_date BETWEEN '{month_txn_window[::len(month_txn_window)][0][0]}' AND '{month_txn_window[::-1][0][1]}'\n",
    "),\n",
    "\n",
    "aggregated_total_txns_per_month AS (\n",
    "    SELECT\n",
    "        member_id,\n",
    "        {sum_txn_window}\n",
    "    FROM\n",
    "        aggregated_customers_with_past_txns\n",
    "    GROUP BY\n",
    "        member_id\n",
    "),\n",
    "\n",
    "customers_with_target_definition AS (\n",
    "    SELECT\n",
    "        member_id,\n",
    "        {\", \".join([x[2]for x in month_txn_window])},\n",
    "        CASE \n",
    "            WHEN { \" AND \".join([f\"{x[2]} = 0\" for x in month_txn_window]) } THEN 1\n",
    "            ELSE 0\n",
    "        END AS target\n",
    "    FROM\n",
    "        aggregated_total_txns_per_month\n",
    "),\n",
    "\n",
    "count_customers_with_target_definition AS (\n",
    "    SELECT\n",
    "        target,\n",
    "        COUNT(member_id) AS cnt_member_id,\n",
    "        COUNT(DISTINCT member_id) AS cntd_member_id\n",
    "    FROM\n",
    "        customers_with_target_definition\n",
    "    GROUP BY\n",
    "        target\n",
    ")\n",
    "\n",
    "SELECT\n",
    "    *\n",
    "FROM\n",
    "    count_customers_with_target_definition\n",
    "''').show()"
   ]
  }
 ],
 "metadata": {
  "kernelspec": {
   "display_name": "Python 3",
   "language": "python",
   "name": "python3"
  },
  "language_info": {
   "codemirror_mode": {
    "name": "ipython",
    "version": 3
   },
   "file_extension": ".py",
   "mimetype": "text/x-python",
   "name": "python",
   "nbconvert_exporter": "python",
   "pygments_lexer": "ipython3",
   "version": "3.12.2"
  }
 },
 "nbformat": 4,
 "nbformat_minor": 2
}
