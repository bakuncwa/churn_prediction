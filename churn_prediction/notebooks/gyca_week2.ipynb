{
 "cells": [
  {
   "cell_type": "code",
   "execution_count": 4,
   "metadata": {},
   "outputs": [
    {
     "name": "stdout",
     "output_type": "stream",
     "text": [
      "3.5.4\n"
     ]
    }
   ],
   "source": [
    "import findspark\n",
    "findspark.init()\n",
    "from pyspark.sql import SparkSession\n",
    "\n",
    "spark = SparkSession.builder \\\n",
    "        .master('local[*]') \\\n",
    "        .appName('Basics') \\\n",
    "        .getOrCreate()\n",
    "\n",
    "print(spark.version)"
   ]
  },
  {
   "cell_type": "code",
   "execution_count": 5,
   "metadata": {},
   "outputs": [
    {
     "name": "stdout",
     "output_type": "stream",
     "text": [
      "+----------------+-----------+--------------------+------+-------+--------+------+-----+---------+-----------+------+-------------+\n",
      "|transaction_date|member_type|           member_id|gender|product|quantity|amount|  age|card_type|branch_name|region|category_name|\n",
      "+----------------+-----------+--------------------+------+-------+--------+------+-----+---------+-----------+------+-------------+\n",
      "|      2018-01-17|     member|ffc9e419-cfda-11e...|FEMALE|    420|       2|  5300|50-55|  REGULAR|    D_Store|     2|          PET|\n",
      "|      2018-04-10|     member|ff39d825-cfda-11e...|  MALE|     69|       4|  7100|40-45|  REGULAR|    D_Store|     2|     CLEANERS|\n",
      "|      2018-02-19|     member|ff90d1f8-cfda-11e...|FEMALE|   1015|      18|  8100|40-45|  REGULAR|    J_Store|     1|          PET|\n",
      "|      2018-01-27|     member|ffd5caf9-cfda-11e...|  MALE|     69|      11|  7100|18-25|  REGULAR|    H_Store|     4|     CLEANERS|\n",
      "|      2018-05-07|     member|ff92f50e-cfda-11e...|FEMALE|   3456|      13|  5200|55-60|  REGULAR|    B_Store|     1|         FOOD|\n",
      "+----------------+-----------+--------------------+------+-------+--------+------+-----+---------+-----------+------+-------------+\n",
      "only showing top 5 rows\n",
      "\n"
     ]
    }
   ],
   "source": [
    "df_2018 = spark.read.csv(f\"C:/Users/gyalm/churn_prediction/churn_prediction/data/week2_for_teacher_demo.csv.gz\", inferSchema=True, header=True)\n",
    "df_2018.show(5)"
   ]
  }
 ],
 "metadata": {
  "kernelspec": {
   "display_name": "Python 3",
   "language": "python",
   "name": "python3"
  },
  "language_info": {
   "codemirror_mode": {
    "name": "ipython",
    "version": 3
   },
   "file_extension": ".py",
   "mimetype": "text/x-python",
   "name": "python",
   "nbconvert_exporter": "python",
   "pygments_lexer": "ipython3",
   "version": "3.12.2"
  }
 },
 "nbformat": 4,
 "nbformat_minor": 2
}
