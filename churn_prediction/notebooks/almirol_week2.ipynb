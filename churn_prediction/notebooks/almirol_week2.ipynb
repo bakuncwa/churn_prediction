{
 "cells": [
  {
   "cell_type": "code",
   "execution_count": 2,
   "metadata": {},
   "outputs": [
    {
     "name": "stdout",
     "output_type": "stream",
     "text": [
      "3.5.4\n"
     ]
    }
   ],
   "source": [
    "import findspark\n",
    "findspark.init()\n",
    "from pyspark.sql import SparkSession\n",
    "\n",
    "spark = SparkSession.builder \\\n",
    "        .master('local[*]') \\\n",
    "        .appName('Basics') \\\n",
    "        .getOrCreate()\n",
    "\n",
    "print(spark.version)"
   ]
  },
  {
   "cell_type": "code",
   "execution_count": 3,
   "metadata": {},
   "outputs": [
    {
     "name": "stdout",
     "output_type": "stream",
     "text": [
      "+----------------+-----------+--------------------+------+-------+--------+------+-----+---------+-----------+------+-------------+\n",
      "|transaction_date|member_type|           member_id|gender|product|quantity|amount|  age|card_type|branch_name|region|category_name|\n",
      "+----------------+-----------+--------------------+------+-------+--------+------+-----+---------+-----------+------+-------------+\n",
      "|      2018-04-01|     member|ff96777d-cfda-11e...|FEMALE|   3267|      16|  5100|30-35|  REGULAR|    E_Store|     3|  FROZEN FOOD|\n",
      "|      2018-04-09|     member|00d89024-cfdb-11e...|FEMALE|   6748|       1|  1100|55-60|  REGULAR|    A_Store|     1|          PET|\n",
      "|      2018-04-01|     member|00858b3b-cfdb-11e...|FEMALE|    420|       4|  5300|55-60|  REGULAR|    A_Store|     1|          PET|\n",
      "|      2018-04-13|     member|001035ed-cfdb-11e...|FEMALE|   3178|      16|  5600|45-50|  REGULAR|    A_Store|     1|      GADGETS|\n",
      "|      2018-04-15|     member|ff5fafeb-cfda-11e...|FEMALE|   2727|      19|  7600|25-30|  REGULAR|    A_Store|     1|      CLOTHES|\n",
      "+----------------+-----------+--------------------+------+-------+--------+------+-----+---------+-----------+------+-------------+\n",
      "only showing top 5 rows\n",
      "\n"
     ]
    }
   ],
   "source": [
    "df_2018 = spark.read.csv(f\"C:/Users/gyalm/OneDrive/Desktop/churn_prediction/churn_prediction/data/week2_data_for_student_lab.csv.gz\", inferSchema=True, header=True)\n",
    "df_2018.show(5)"
   ]
  },
  {
   "cell_type": "code",
   "execution_count": 4,
   "metadata": {},
   "outputs": [],
   "source": [
    "df_2018.createOrReplaceTempView(\"df_2018_view\")"
   ]
  },
  {
   "cell_type": "code",
   "execution_count": 5,
   "metadata": {},
   "outputs": [
    {
     "name": "stdout",
     "output_type": "stream",
     "text": [
      "+----------------+-----------+--------------------+------+-------+--------+------+-----+---------+-----------+------+-------------+\n",
      "|transaction_date|member_type|           member_id|gender|product|quantity|amount|  age|card_type|branch_name|region|category_name|\n",
      "+----------------+-----------+--------------------+------+-------+--------+------+-----+---------+-----------+------+-------------+\n",
      "|      2018-04-01|     member|ff96777d-cfda-11e...|FEMALE|   3267|      16|  5100|30-35|  REGULAR|    E_Store|     3|  FROZEN FOOD|\n",
      "|      2018-04-09|     member|00d89024-cfdb-11e...|FEMALE|   6748|       1|  1100|55-60|  REGULAR|    A_Store|     1|          PET|\n",
      "|      2018-04-01|     member|00858b3b-cfdb-11e...|FEMALE|    420|       4|  5300|55-60|  REGULAR|    A_Store|     1|          PET|\n",
      "|      2018-04-13|     member|001035ed-cfdb-11e...|FEMALE|   3178|      16|  5600|45-50|  REGULAR|    A_Store|     1|      GADGETS|\n",
      "|      2018-04-15|     member|ff5fafeb-cfda-11e...|FEMALE|   2727|      19|  7600|25-30|  REGULAR|    A_Store|     1|      CLOTHES|\n",
      "+----------------+-----------+--------------------+------+-------+--------+------+-----+---------+-----------+------+-------------+\n",
      "\n"
     ]
    }
   ],
   "source": [
    "spark.sql('''SELECT * FROM df_2018_view LIMIT 5''').show()"
   ]
  },
  {
   "cell_type": "code",
   "execution_count": 6,
   "metadata": {},
   "outputs": [
    {
     "name": "stdout",
     "output_type": "stream",
     "text": [
      "+--------+\n",
      "|MemberId|\n",
      "+--------+\n",
      "|  356982|\n",
      "+--------+\n",
      "\n"
     ]
    }
   ],
   "source": [
    "spark.sql('''SELECT COUNT(DISTINCT member_id) AS MemberId FROM df_2018_view''').show()"
   ]
  },
  {
   "cell_type": "code",
   "execution_count": 7,
   "metadata": {},
   "outputs": [
    {
     "name": "stdout",
     "output_type": "stream",
     "text": [
      "+--------+\n",
      "|MemberId|\n",
      "+--------+\n",
      "|  101637|\n",
      "+--------+\n",
      "\n"
     ]
    }
   ],
   "source": [
    "spark.sql('''SELECT COUNT(DISTINCT member_id) AS MemberId FROM df_2018_view WHERE transaction_date LIKE \"%2018-04%\"''').show()"
   ]
  },
  {
   "cell_type": "code",
   "execution_count": 8,
   "metadata": {},
   "outputs": [
    {
     "name": "stdout",
     "output_type": "stream",
     "text": [
      "+---------------+---------------+\n",
      "|PARTITION_MONTH|total_member_id|\n",
      "+---------------+---------------+\n",
      "|     2018-04-01|          59143|\n",
      "|     2018-05-01|          84325|\n",
      "|     2018-06-01|          89658|\n",
      "+---------------+---------------+\n",
      "\n"
     ]
    }
   ],
   "source": [
    "spark.sql('''\n",
    "WITH customers_in_april AS (\n",
    "  SELECT DISTINCT member_id\n",
    "  FROM df_2018_view\n",
    "  WHERE transaction_date BETWEEN '2018-04-01' AND '2018-04-30'\n",
    "), \n",
    "customers_in_april_joined_with_past_3_months_txn AS (\n",
    "  SELECT\n",
    "    a.member_id, \n",
    "    b.quantity, \n",
    "    b.transaction_date\n",
    "  FROM\n",
    "    customers_in_april AS a\n",
    "  LEFT JOIN\n",
    "    df_2018_view AS b\n",
    "  ON\n",
    "    a.member_id = b.member_id\n",
    "  WHERE\n",
    "    b.transaction_date BETWEEN '2018-01-01' AND '2018-03-31'\n",
    "), \n",
    "aggregated_total_txns_in_april AS (\n",
    "  SELECT\n",
    "    member_id, \n",
    "    SUM(CASE WHEN transaction_date BETWEEN '2018-01-01' AND '2018-01-31' THEN quantity ELSE 0 END) AS pm3_total_txn, \n",
    "    SUM(CASE WHEN transaction_date BETWEEN '2018-02-01' AND '2018-02-28' THEN quantity ELSE 0 END) AS pm2_total_txn, \n",
    "    SUM(CASE WHEN transaction_date BETWEEN '2018-03-01' AND '2018-03-31' THEN quantity ELSE 0 END) AS pm1_total_txn,\n",
    "    '2018-04-01' AS PARTITION_MONTH\n",
    "  FROM\n",
    "    customers_in_april_joined_with_past_3_months_txn\n",
    "  GROUP BY\n",
    "    member_id\n",
    "),\n",
    "customers_in_may AS (\n",
    "  SELECT DISTINCT member_id\n",
    "  FROM df_2018_view\n",
    "  WHERE transaction_date BETWEEN '2018-05-01' AND '2018-05-31'\n",
    "), \n",
    "customers_in_may_joined_with_past_3_months_txn AS (\n",
    "  SELECT\n",
    "    a.member_id, \n",
    "    b.quantity, \n",
    "    b.transaction_date\n",
    "  FROM\n",
    "    customers_in_may AS a\n",
    "  LEFT JOIN\n",
    "    df_2018_view AS b\n",
    "  ON\n",
    "    a.member_id = b.member_id\n",
    "  WHERE\n",
    "    b.transaction_date BETWEEN '2018-02-01' AND '2018-04-30'\n",
    "), \n",
    "aggregated_total_txns_in_may AS (\n",
    "  SELECT\n",
    "    member_id, \n",
    "    SUM(CASE WHEN transaction_date BETWEEN '2018-02-01' AND '2018-02-28' THEN quantity ELSE 0 END) AS pm3_total_txn, \n",
    "    SUM(CASE WHEN transaction_date BETWEEN '2018-03-01' AND '2018-03-31' THEN quantity ELSE 0 END) AS pm2_total_txn, \n",
    "    SUM(CASE WHEN transaction_date BETWEEN '2018-04-01' AND '2018-04-30' THEN quantity ELSE 0 END) AS pm1_total_txn,\n",
    "    '2018-05-01' AS PARTITION_MONTH\n",
    "  FROM\n",
    "    customers_in_may_joined_with_past_3_months_txn\n",
    "  GROUP BY\n",
    "    member_id\n",
    "),\n",
    "customers_in_june AS (\n",
    "  SELECT DISTINCT member_id\n",
    "  FROM df_2018_view\n",
    "  WHERE transaction_date BETWEEN '2018-06-01' AND '2018-06-30'\n",
    "), \n",
    "customers_in_june_joined_with_past_3_months_txn AS (\n",
    "  SELECT\n",
    "    a.member_id, \n",
    "    b.quantity, \n",
    "    b.transaction_date\n",
    "  FROM\n",
    "    customers_in_june AS a\n",
    "  LEFT JOIN\n",
    "    df_2018_view AS b\n",
    "  ON\n",
    "    a.member_id = b.member_id\n",
    "  WHERE\n",
    "    b.transaction_date BETWEEN '2018-03-01' AND '2018-05-31'\n",
    "), \n",
    "aggregated_total_txns_in_june AS (\n",
    "  SELECT\n",
    "    member_id, \n",
    "    SUM(CASE WHEN transaction_date BETWEEN '2018-03-01' AND '2018-03-31' THEN quantity ELSE 0 END) AS pm3_total_txn, \n",
    "    SUM(CASE WHEN transaction_date BETWEEN '2018-04-01' AND '2018-04-30' THEN quantity ELSE 0 END) AS pm2_total_txn, \n",
    "    SUM(CASE WHEN transaction_date BETWEEN '2018-05-01' AND '2018-05-31' THEN quantity ELSE 0 END) AS pm1_total_txn,\n",
    "    '2018-06-01' AS PARTITION_MONTH\n",
    "  FROM\n",
    "    customers_in_june_joined_with_past_3_months_txn\n",
    "  GROUP BY\n",
    "    member_id\n",
    "),\n",
    "union_all_aggregated_txns AS (\n",
    "  SELECT * FROM aggregated_total_txns_in_april\n",
    "  UNION ALL\n",
    "  SELECT * FROM aggregated_total_txns_in_may\n",
    "  UNION ALL\n",
    "  SELECT * FROM aggregated_total_txns_in_june\n",
    ")\n",
    "SELECT\n",
    "    PARTITION_MONTH,\n",
    "    COUNT(member_id) AS total_member_id\n",
    "FROM\n",
    "    union_all_aggregated_txns\n",
    "GROUP BY\n",
    "    PARTITION_MONTH\n",
    "ORDER BY\n",
    "    PARTITION_MONTH\n",
    "''').show()"
   ]
  }
 ],
 "metadata": {
  "kernelspec": {
   "display_name": "Python 3",
   "language": "python",
   "name": "python3"
  },
  "language_info": {
   "codemirror_mode": {
    "name": "ipython",
    "version": 3
   },
   "file_extension": ".py",
   "mimetype": "text/x-python",
   "name": "python",
   "nbconvert_exporter": "python",
   "pygments_lexer": "ipython3",
   "version": "3.12.2"
  }
 },
 "nbformat": 4,
 "nbformat_minor": 2
}
